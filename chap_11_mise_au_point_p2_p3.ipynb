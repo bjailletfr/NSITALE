{
 "cells": [
  {
   "cell_type": "markdown",
   "id": "33551140-3697-4eb1-bcde-35542c2e9d29",
   "metadata": {},
   "source": [
    "# La mise au point d'un programme"
   ]
  },
  {
   "cell_type": "markdown",
   "id": "38112d02-c6b6-4d34-8506-c1da0cdcd094",
   "metadata": {},
   "source": [
    "## 2. La gestion des exceptions"
   ]
  },
  {
   "cell_type": "markdown",
   "id": "af3d41d9-890f-48c8-8fb7-59944748103a",
   "metadata": {},
   "source": [
    "$ \\color{Red}{\\text{Exercice n°1}} $"
   ]
  },
  {
   "cell_type": "code",
   "execution_count": 4,
   "id": "f306dde1-8505-4481-8f3a-efa1cbea5c99",
   "metadata": {},
   "outputs": [
    {
     "ename": "TypeError",
     "evalue": "unsupported operand type(s) for /: 'int' and 'str'",
     "output_type": "error",
     "traceback": [
      "\u001b[1;31m---------------------------------------------------------------------------\u001b[0m",
      "\u001b[1;31mTypeError\u001b[0m                                 Traceback (most recent call last)",
      "\u001b[1;32m~\\AppData\\Local\\Temp/ipykernel_44716/1545125120.py\u001b[0m in \u001b[0;36m<module>\u001b[1;34m\u001b[0m\n\u001b[0;32m      1\u001b[0m \u001b[0ma\u001b[0m\u001b[1;33m=\u001b[0m\u001b[1;36m12\u001b[0m\u001b[1;33m\u001b[0m\u001b[1;33m\u001b[0m\u001b[0m\n\u001b[0;32m      2\u001b[0m \u001b[0mb\u001b[0m\u001b[1;33m=\u001b[0m\u001b[1;34m\"essai\"\u001b[0m\u001b[1;33m\u001b[0m\u001b[1;33m\u001b[0m\u001b[0m\n\u001b[1;32m----> 3\u001b[1;33m \u001b[0mr\u001b[0m\u001b[1;33m=\u001b[0m\u001b[0ma\u001b[0m\u001b[1;33m/\u001b[0m\u001b[0mb\u001b[0m\u001b[1;33m\u001b[0m\u001b[1;33m\u001b[0m\u001b[0m\n\u001b[0m",
      "\u001b[1;31mTypeError\u001b[0m: unsupported operand type(s) for /: 'int' and 'str'"
     ]
    }
   ],
   "source": [
    "a=12\n",
    "b=\"essai\"\n",
    "r=a/b"
   ]
  },
  {
   "cell_type": "code",
   "execution_count": 3,
   "id": "9aee28fc-f158-4b5b-9bfc-a8f1208abf44",
   "metadata": {},
   "outputs": [
    {
     "ename": "NameError",
     "evalue": "name 'd' is not defined",
     "output_type": "error",
     "traceback": [
      "\u001b[1;31m---------------------------------------------------------------------------\u001b[0m",
      "\u001b[1;31mNameError\u001b[0m                                 Traceback (most recent call last)",
      "\u001b[1;32m~\\AppData\\Local\\Temp/ipykernel_44716/3675939214.py\u001b[0m in \u001b[0;36m<module>\u001b[1;34m\u001b[0m\n\u001b[0;32m      1\u001b[0m \u001b[0mc\u001b[0m\u001b[1;33m=\u001b[0m\u001b[1;36m12\u001b[0m\u001b[1;33m\u001b[0m\u001b[1;33m\u001b[0m\u001b[0m\n\u001b[1;32m----> 2\u001b[1;33m \u001b[0mr\u001b[0m\u001b[1;33m=\u001b[0m\u001b[0mc\u001b[0m\u001b[1;33m/\u001b[0m\u001b[0md\u001b[0m\u001b[1;33m\u001b[0m\u001b[1;33m\u001b[0m\u001b[0m\n\u001b[0m",
      "\u001b[1;31mNameError\u001b[0m: name 'd' is not defined"
     ]
    }
   ],
   "source": [
    "c=12\n",
    "r=c/d"
   ]
  },
  {
   "cell_type": "markdown",
   "id": "4b3a6761-3844-4742-a503-db3fe42e5f11",
   "metadata": {},
   "source": [
    "## 3. Le mécanisme d'assertion"
   ]
  },
  {
   "cell_type": "markdown",
   "id": "dd7af2e4-6d89-4650-9a28-755fcd360ca5",
   "metadata": {},
   "source": [
    "(programmation défensive)"
   ]
  },
  {
   "cell_type": "markdown",
   "id": "f440eba6-7480-498a-b048-b8573e244a82",
   "metadata": {
    "tags": []
   },
   "source": [
    "$ \\color{Red}{\\text{Exercice n°2}} $"
   ]
  },
  {
   "cell_type": "markdown",
   "id": "4693ec8b-96b7-4650-a579-f9b315d18506",
   "metadata": {},
   "source": [
    "Les préconditions de cette fonction sont les suivantes :\n",
    "- score doit être un entier ou un flottant positif ou nul,\n",
    "- total doit être une entier ou un flottant strictement positif,\n",
    "- score doit être inférieur ou égal à total"
   ]
  },
  {
   "cell_type": "code",
   "execution_count": 7,
   "id": "ac87fdc8-3f95-4106-8c8a-c63df9dcc7cf",
   "metadata": {
    "tags": []
   },
   "outputs": [],
   "source": [
    "def pourcentage(score, total) :\n",
    "    assert (type(score)==int or type(score)==float), \"score doit être de type int ou float\"\n",
    "    assert score>=0, \"score doit être positif ou nul\"\n",
    "    assert (type(total)==int or type(total)==float), \"total doit être de type int ou float\"\n",
    "    assert total>0, \"score doit être positif ou nul\"\n",
    "    assert score<=total, \"score doit être inférieur ou égal à total\"\n",
    "    return (score/total)*100"
   ]
  },
  {
   "cell_type": "code",
   "execution_count": 13,
   "id": "617a0689-b2b9-4957-bb67-6f8f783483f9",
   "metadata": {},
   "outputs": [
    {
     "data": {
      "text/plain": [
       "60.0"
      ]
     },
     "execution_count": 13,
     "metadata": {},
     "output_type": "execute_result"
    }
   ],
   "source": [
    "pourcentage(12,20)"
   ]
  },
  {
   "cell_type": "markdown",
   "id": "f358ea18-9804-428e-9c78-3871a129cbb3",
   "metadata": {
    "tags": []
   },
   "source": [
    "$ \\color{Red}{\\text{Exercice n°3}} $"
   ]
  },
  {
   "cell_type": "markdown",
   "id": "a2502e1c-df27-480d-a3ca-265956c4cd59",
   "metadata": {
    "tags": []
   },
   "source": [
    "**La fonction shift**"
   ]
  },
  {
   "cell_type": "markdown",
   "id": "4bec35cd-ed5c-4d8f-98c1-4b017912311e",
   "metadata": {},
   "source": [
    "- Pré : p doit être str ; n doit être un entier >=0\n",
    "- Post : ps doit être une chaine de même longueur que p"
   ]
  },
  {
   "cell_type": "code",
   "execution_count": 15,
   "id": "8ebc2c88-2250-43e6-8d5c-1323566f8c35",
   "metadata": {
    "tags": []
   },
   "outputs": [],
   "source": [
    "def shift(p,n):\n",
    "    long=len(p) #utile pour le dernière assertion\n",
    "    assert type(p)==str, \"type(p) doit être str !\"\n",
    "    assert (type(n)==int and n>=0), \"n doit être un entier positif ou nul\"\n",
    "    for i in range(n%len(p)):\n",
    "        p=p[-1]+p[:-1]\n",
    "    assert len(p)==long, \"La longueur de la chaine shiftée n'est pas bonne\"\n",
    "    return p"
   ]
  },
  {
   "cell_type": "code",
   "execution_count": null,
   "id": "75f8b261-9940-438e-a8b6-28e39510bed7",
   "metadata": {
    "tags": []
   },
   "outputs": [],
   "source": []
  },
  {
   "cell_type": "markdown",
   "id": "af764908-c572-4a20-8b81-62e9f39cf90e",
   "metadata": {
    "tags": []
   },
   "source": [
    "**La fonction ou_exclusif**"
   ]
  },
  {
   "cell_type": "markdown",
   "id": "7f386c8b-14e9-40bf-bcde-ff800d1dbbf2",
   "metadata": {},
   "source": [
    "- Pré : p1 et p2 doivent être des chaines de caractères ne contenant que des caractères numériques et de même longueur,\n",
    "- Post : r doit ne doit contenir que des caractères numériques et sa longueur doit être la même que celle de p1 et p2"
   ]
  },
  {
   "cell_type": "code",
   "execution_count": 24,
   "id": "c5fec40a-6144-4925-b125-bee6f1011a93",
   "metadata": {
    "tags": []
   },
   "outputs": [],
   "source": [
    "def ou_exclusif(p1, p2):\n",
    "    assert (type(p1)==str and type(p2)==str), \"p1 et p2 doivent être des str\"\n",
    "    assert p1.isnumeric(), \"p1 ne contient pas que des chiffres\"\n",
    "    assert p2.isnumeric(), \"p2 ne contient pas que des chiffres\"\n",
    "    assert len(p1)==len(p2), \"p1 et p2 doivent être de même longueur\"\n",
    "    r=\"\"\n",
    "    for i in range(len(p1)):\n",
    "        r+=str(int(p1[i])^int(p2[i]))\n",
    "    assert r.isnumeric(), \"r ne contient pas que des chiffres\"\n",
    "    assert len(r)==len(p1), \"La longueur de r n'est pas bonne\"\n",
    "    return r"
   ]
  },
  {
   "cell_type": "code",
   "execution_count": null,
   "id": "b3c201f4-0f91-4e35-867b-356dce22b608",
   "metadata": {
    "tags": []
   },
   "outputs": [],
   "source": []
  },
  {
   "cell_type": "markdown",
   "id": "fed22926-cbac-4f24-8a3c-584898e03992",
   "metadata": {},
   "source": [
    "Une autre méthode : utiliser une fonction pour faire des assertions."
   ]
  },
  {
   "cell_type": "code",
   "execution_count": 19,
   "id": "9334746c-0f8c-4573-9757-84a8ba18e647",
   "metadata": {},
   "outputs": [],
   "source": [
    "def binaire(chaine):\n",
    "    for c in chaine:\n",
    "        if (c!=\"0\" and c!=\"1\"): return False\n",
    "    return True"
   ]
  },
  {
   "cell_type": "code",
   "execution_count": 25,
   "id": "f0346c70-d01e-41e8-b8f1-70daa29b6a84",
   "metadata": {
    "tags": []
   },
   "outputs": [],
   "source": [
    "def ou_exclusif(p1, p2):\n",
    "    assert (type(p1)==str and type(p2)==str), \"p1 et p2 doivent être des str\"\n",
    "    assert binaire(p1), \"p1 n'est pas une chaine binaire\"\n",
    "    assert binaire(p2), \"p2 n'est pas une chaine binaire\"\n",
    "    assert len(p1)==len(p2), \"p1 et p2 doivent être de même longueur\"\n",
    "    r=\"\"\n",
    "    for i in range(len(p1)):\n",
    "        r+=str(int(p1[i])^int(p2[i]))\n",
    "    assert binaire(r), \"r n'est pas une chaine binaire\"\n",
    "    assert len(r)==len(p1), \"La longueur de r n'est pas bonne\"\n",
    "    return r"
   ]
  },
  {
   "cell_type": "code",
   "execution_count": 29,
   "id": "a761a3b6-f638-4148-b65d-36818be713c4",
   "metadata": {},
   "outputs": [
    {
     "data": {
      "text/plain": [
       "'1011'"
      ]
     },
     "execution_count": 29,
     "metadata": {},
     "output_type": "execute_result"
    }
   ],
   "source": [
    "ou_exclusif(\"0100\",\"1111\")"
   ]
  },
  {
   "cell_type": "markdown",
   "id": "51ed69e1-4796-4d57-b15e-40627034efc7",
   "metadata": {
    "tags": []
   },
   "source": [
    "**La fonction somme**"
   ]
  },
  {
   "cell_type": "markdown",
   "id": "aa01bc1f-f121-4416-a586-ffcca5903ec0",
   "metadata": {},
   "source": [
    "- Pre : p1 et p2 sont 2 chaînes de caractère de longueur égale à 128 et constituées que de caractères numériques\n",
    "- Post : le résultat doit être une chaine de caractères de longueur égale à 128."
   ]
  },
  {
   "cell_type": "code",
   "execution_count": 17,
   "id": "d8ecb802-8446-481a-9893-fa7c61e47d26",
   "metadata": {},
   "outputs": [],
   "source": [
    "def somme(p1,p2):\n",
    "    assert (len(p1)==128 and len(p2)==128), \"p1 et p2 doivent avoir une longueur de 128 bits\"\n",
    "    assert p1.isnumeric() and p2.isnumeric(), \"p1 et/ou p2 ne contiennt pas que des chiffres\"\n",
    "    p1, p2= int(p1,2), int(p2,2)\n",
    "    resultat=format(p1+p2,\"0128b\")[-128:] #ne peut pas être placé directement dans le return\n",
    "    assert (type(resultat)==str and len(resultat)==128), \"resultat doit être une chaine de longueur 128 bits\"\n",
    "    return resultat"
   ]
  },
  {
   "cell_type": "markdown",
   "id": "ba88dba2-0f6d-4f1c-994b-1a9ad60cf029",
   "metadata": {},
   "source": [
    "Pour tester la fonction somme, il faut générer des chaines binaires de longueur n. C'est le rôle de la fonction generer_bin(n)."
   ]
  },
  {
   "cell_type": "code",
   "execution_count": 30,
   "id": "0fc01b0c-5c58-48d3-ae3f-adedb4f6f66b",
   "metadata": {},
   "outputs": [],
   "source": [
    "from random import *\n",
    "def generer_bin(n):\n",
    "    c=\"\"\n",
    "    for i in range(n):\n",
    "        c+=str(randint(0,1))\n",
    "    return c"
   ]
  },
  {
   "cell_type": "code",
   "execution_count": 31,
   "id": "9d5b79d8-e496-45bf-8c46-8e190cf53637",
   "metadata": {},
   "outputs": [
    {
     "data": {
      "text/plain": [
       "'110101111111'"
      ]
     },
     "execution_count": 31,
     "metadata": {},
     "output_type": "execute_result"
    }
   ],
   "source": [
    "generer_bin(12)"
   ]
  },
  {
   "cell_type": "code",
   "execution_count": null,
   "id": "3e4486e9-4f3f-4f30-8b86-c7b6f98f4ed4",
   "metadata": {},
   "outputs": [],
   "source": []
  }
 ],
 "metadata": {
  "kernelspec": {
   "display_name": "Python 3 (ipykernel)",
   "language": "python",
   "name": "python3"
  },
  "language_info": {
   "codemirror_mode": {
    "name": "ipython",
    "version": 3
   },
   "file_extension": ".py",
   "mimetype": "text/x-python",
   "name": "python",
   "nbconvert_exporter": "python",
   "pygments_lexer": "ipython3",
   "version": "3.9.7"
  }
 },
 "nbformat": 4,
 "nbformat_minor": 5
}
